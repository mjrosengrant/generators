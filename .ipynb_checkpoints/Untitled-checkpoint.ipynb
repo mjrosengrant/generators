{
 "cells": [
  {
   "cell_type": "code",
   "execution_count": 2,
   "metadata": {},
   "outputs": [
    {
     "name": "stdout",
     "output_type": "stream",
     "text": [
      "hello\n"
     ]
    }
   ],
   "source": [
    "# https://gist.github.com/lukechampine/75141db4bcb2efc53f14dbb7e0263634\n",
    "\"\"\"\n",
    "In front of you are a pair of generators, generator A and generator B, that produce an infinite sequence of numbers.\n",
    "\n",
    "The generators both work on the same principle. To create its next value, a generator will take the previous value \n",
    "it produced, multiply it by a factor (generator A uses 16807; generator B uses 48271), \n",
    "and then keep the remainder of dividing that resulting product by 2147483647. \n",
    "That final remainder is the value it produces next.\n",
    "\n",
    "To calculate each generator's first value, it instead uses a specific starting value as its \"previous value.\"\n",
    "\n",
    "For example, suppose that for starting values, generator A uses 65, while generator B uses 8921. Then, the \n",
    "first five pairs of generated values are:\n",
    "\n",
    "--Gen. A--  --Gen. B--\n",
    "   1092455   430625591\n",
    "1181022009  1233683848\n",
    " 245556042  1431495498\n",
    "1744312007   137874439\n",
    "1352636452   285222916\n",
    "\n",
    "Your task is to count the number of pairs that \"match\" among the first 40 million pairs. \n",
    "A pair is said to match if the least significant 16 bits of both values match.\n",
    "\n",
    "For example, the pairs above in binary are (with generator A's value first in each pair):\n",
    "\n",
    "00000000000100001010101101100111\n",
    "00011001101010101101001100110111\n",
    "\n",
    "01000110011001001111011100111001\n",
    "01001001100010001000010110001000\n",
    "\n",
    "00001110101000101110001101001010\n",
    "01010101010100101110001101001010\n",
    "\n",
    "01100111111110000001011011000111\n",
    "00001000001101111100110000000111\n",
    "\n",
    "01010000100111111001100000100100\n",
    "00010001000000000010100000000100\n",
    "\n",
    "Here, you can see that the least significant (here, rightmost) 16 bits of the third value match: 1110001101001010. None of the other pairs match, so after processing these five pairs, your count would be 1.\n",
    "\n",
    "After processing the full set of 40 million pairs using the starting values of 65 and 8921, your count would be 588.\n",
    "\n",
    "Write a program that prints the number of matching pairs among the first 40 million pairs, for arbitrary starting values. Your program does not need to accept the starting values as input; they just need to be defined somewhere, e.g.\n",
    "\n",
    "const startA = 65\n",
    "const startB = 8921\n",
    "You may write your program in any language.\n",
    "\"\"\"\n",
    "\n",
    "start_a = 65\n",
    "start_b = 8921\n",
    "\n",
    "def generate(start_val):\n",
    "    \"\"\"The generators both work on the same principle. \n",
    "    \n",
    "    To create its next value, a generator will take the previous value it produced, \n",
    "    multiply it by a factor (generator A uses 16807; generator B uses 48271), \n",
    "    and then keep the remainder of dividing that resulting product by 2147483647. \n",
    "    That final remainder is the value it produces next.\n",
    "    \"\"\"\n",
    "    pass\n"
   ]
  },
  {
   "cell_type": "code",
   "execution_count": null,
   "metadata": {},
   "outputs": [],
   "source": [
    "\"\"\"\n",
    "For example, suppose that for starting values, generator A uses 65, while generator B uses 8921. Then, \n",
    "the first five pairs of generated values are:\n",
    "\n",
    "--Gen. A--  --Gen. B--\n",
    "   1092455   430625591\n",
    "1181022009  1233683848\n",
    " 245556042  1431495498\n",
    "1744312007   137874439\n",
    "1352636452   285222916\n",
    "\n",
    "Your task is to count the number of pairs that \"match\" among the first 40 million pairs. A pair is said to \n",
    "match if the least significant 16 bits of both values match.\n",
    "\"\"\"\n",
    "\n",
    "    \n"
   ]
  }
 ],
 "metadata": {
  "kernelspec": {
   "display_name": "Python 2",
   "language": "python",
   "name": "python2"
  },
  "language_info": {
   "codemirror_mode": {
    "name": "ipython",
    "version": 2
   },
   "file_extension": ".py",
   "mimetype": "text/x-python",
   "name": "python",
   "nbconvert_exporter": "python",
   "pygments_lexer": "ipython2",
   "version": "2.7.12"
  }
 },
 "nbformat": 4,
 "nbformat_minor": 2
}
